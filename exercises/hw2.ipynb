{
 "cells": [
  {
   "cell_type": "code",
   "execution_count": 1,
   "metadata": {},
   "outputs": [
    {
     "name": "stdout",
     "output_type": "stream",
     "text": [
      "python\n"
     ]
    },
    {
     "data": {
      "text/plain": [
       "['pppp', 'yyyy', 'tttt', 'hhhh', 'oooo', 'nnnn']"
      ]
     },
     "execution_count": 1,
     "metadata": {},
     "output_type": "execute_result"
    }
   ],
   "source": [
    "s = input()\n",
    "[c * 4 for c in s]"
   ]
  },
  {
   "cell_type": "code",
   "execution_count": 3,
   "metadata": {},
   "outputs": [
    {
     "name": "stdout",
     "output_type": "stream",
     "text": [
      "python\n"
     ]
    },
    {
     "data": {
      "text/plain": [
       "['p', 'yy', 'ttt', 'hhhh', 'ooooo', 'nnnnnn']"
      ]
     },
     "execution_count": 3,
     "metadata": {},
     "output_type": "execute_result"
    }
   ],
   "source": [
    "s = input()\n",
    "[c * (i + 1) for i, c in enumerate(s)]"
   ]
  },
  {
   "cell_type": "code",
   "execution_count": 6,
   "metadata": {},
   "outputs": [
    {
     "data": {
      "text/plain": [
       "[0, 3, 5, 6, 9, 10, 12, 15]"
      ]
     },
     "execution_count": 6,
     "metadata": {},
     "output_type": "execute_result"
    }
   ],
   "source": [
    "s = range(16)\n",
    "\n",
    "[i for i in s if i == 0 or i == len(s)-1 or ((i - len(s) % i) & ((i - len(s) % i) - 1) == 0) and len(s) % i != 0]"
   ]
  },
  {
   "cell_type": "code",
   "execution_count": 8,
   "metadata": {},
   "outputs": [
    {
     "data": {
      "text/plain": [
       "[1, 2, 3, 4, 5, 6, 7, 8, 9, 0]"
      ]
     },
     "execution_count": 8,
     "metadata": {},
     "output_type": "execute_result"
    }
   ],
   "source": [
    "s = [[1, 2, 3], [4, 5, 6, 7], [8, 9], [0]]\n",
    "\n",
    "[j for i in s for j in i]"
   ]
  },
  {
   "cell_type": "code",
   "execution_count": 13,
   "metadata": {},
   "outputs": [
    {
     "data": {
      "text/plain": [
       "[(3, 4, 5), (5, 12, 13), (6, 8, 10), (9, 12, 15)]"
      ]
     },
     "execution_count": 13,
     "metadata": {},
     "output_type": "execute_result"
    }
   ],
   "source": [
    "s = 15\n",
    "\n",
    "[(i, j, k) for i in range(1, s - 1) for j in range(i+1, s) for k in range(j+1, s+1) if i**2 + j**2 == k**2]"
   ]
  },
  {
   "cell_type": "code",
   "execution_count": 18,
   "metadata": {},
   "outputs": [
    {
     "data": {
      "text/plain": [
       "[[0, 1, 2, 3, 4], [1, 2, 3, 4, 5], [2, 3, 4, 5, 6]]"
      ]
     },
     "execution_count": 18,
     "metadata": {},
     "output_type": "execute_result"
    }
   ],
   "source": [
    "s = ([0, 1, 2], [0, 1, 2, 3, 4])\n",
    "\n",
    "[[i + j for j in s[1]] for i in s[0]]"
   ]
  },
  {
   "cell_type": "code",
   "execution_count": 24,
   "metadata": {},
   "outputs": [
    {
     "data": {
      "text/plain": [
       "[[1, 3, 5], [2, 4, 6]]"
      ]
     },
     "execution_count": 24,
     "metadata": {},
     "output_type": "execute_result"
    }
   ],
   "source": [
    "s = [[1, 2], [3, 4], [5, 6]]\n",
    "\n",
    "[list(i) for i in zip(*s)]"
   ]
  },
  {
   "cell_type": "code",
   "execution_count": 29,
   "metadata": {},
   "outputs": [
    {
     "data": {
      "text/plain": [
       "[[0], [1, 2, 3], [4, 5, 6, 7], [8, 9]]"
      ]
     },
     "execution_count": 29,
     "metadata": {},
     "output_type": "execute_result"
    }
   ],
   "source": [
    "s = [\"0\", \"1 2 3\", \"4 5 6 7\", \"8 9\"]\n",
    "\n",
    "[list(map(int, list(i.split(\" \")))) for i in s]"
   ]
  },
  {
   "cell_type": "code",
   "execution_count": 39,
   "metadata": {},
   "outputs": [
    {
     "data": {
      "text/plain": [
       "{'a': 0, 'b': 1, 'c': 4, 'd': 9, 'e': 16, 'f': 25, 'g': 36}"
      ]
     },
     "execution_count": 39,
     "metadata": {},
     "output_type": "execute_result"
    }
   ],
   "source": [
    "s = range(0, 7)\n",
    "\n",
    "{chr(i): j**2 for i, j in zip(range(ord('a'), ord('z')), s)}\n"
   ]
  },
  {
   "cell_type": "code",
   "execution_count": 50,
   "metadata": {},
   "outputs": [
    {
     "data": {
      "text/plain": [
       "{'Alice', 'Anton', 'Kamila', 'Nastya', 'Vova'}"
      ]
     },
     "execution_count": 50,
     "metadata": {},
     "output_type": "execute_result"
    }
   ],
   "source": [
    "s = ['Alice', 'vova', 'ANTON', 'Bob', 'kAMILA', 'CJ', 'ALICE', 'Nastya']\n",
    "\n",
    "{ i for i in [y.capitalize() for y in {x.lower() for x in s if len(x) > 3}]}"
   ]
  },
  {
   "cell_type": "code",
   "execution_count": null,
   "metadata": {},
   "outputs": [],
   "source": []
  },
  {
   "cell_type": "code",
   "execution_count": 47,
   "metadata": {},
   "outputs": [],
   "source": [
    "def solution1(s):\n",
    "    return [c * 4 for c in s]\n",
    "    \n",
    "def solution2(s):\n",
    "    return [c * (i + 1) for i, c in enumerate(s)]\n",
    "    \n",
    "def solution3(s):\n",
    "    return [i for i in s if i == 0 or i == len(s)-1 or ((i - len(s) % i) & ((i - len(s) % i) - 1) == 0) and len(s) % i != 0]\n",
    "\n",
    "def solution4(s):\n",
    "    return [j for i in s for j in i]\n",
    "    \n",
    "def solution5(s):\n",
    "    return [(i, j, k) for i in range(1, s - 1) for j in range(i+1, s) for k in range(j+1, s+1) if i**2 + j**2 == k**2]\n",
    "    \n",
    "def solution6(s):\n",
    "    return [[i + j for j in s[1]] for i in s[0]]\n",
    "\n",
    "def solution7(s):\n",
    "    return [list(i) for i in zip(*s)]\n",
    "\n",
    "def solution8(s):\n",
    "    return [list(map(int, list(i.split(\" \")))) for i in s]\n",
    "\n",
    "def solution9(s):\n",
    "    return {chr(i): j**2 for i, j in zip(range(ord('a'), ord('z')), s)}\n",
    "\n",
    "def solution10(s):\n",
    "    return { i for i in [y.capitalize() for y in {x.lower() for x in s if len(x) > 3}]}\n",
    "\n",
    "solutions = {\n",
    "    'solution1': solution1,\n",
    "    'solution2': solution2,\n",
    "    'solution3': solution3,\n",
    "    'solution4': solution4,\n",
    "    'solution5': solution5,\n",
    "    'solution6': solution6,\n",
    "    'solution7': solution7,\n",
    "    'solution8': solution8,\n",
    "    'solution9': solution9,\n",
    "    'solution10': solution10,\n",
    "}"
   ]
  },
  {
   "cell_type": "code",
   "execution_count": 170,
   "metadata": {},
   "outputs": [],
   "source": [
    "import copy\n",
    "\n",
    "class FragileDict:\n",
    "    def __init__(self, kwargs={}):\n",
    "        self._data = copy.deepcopy(kwargs)\n",
    "        self._lock = True\n",
    "        \n",
    "    def __getitem__(self, key):\n",
    "        return copy.deepcopy(self._data[key]) if self._lock else self._data[key]\n",
    "    \n",
    "    def __setitem__(self, key, value):\n",
    "        if self._lock:\n",
    "            raise RuntimeError(\"Protected state\")\n",
    "        self._data[key] = value\n",
    "    \n",
    "    def __enter__(self): \n",
    "        self._lock = False\n",
    "        self._backup = copy.deepcopy(self._data)\n",
    "        return self\n",
    "      \n",
    "    def __exit__(self, exc_type, exc_value, exc_traceback): \n",
    "        self._lock = True\n",
    "        if (not exc_value is None):\n",
    "            self._data.clear()\n",
    "            self._data = self._backup\n",
    "            print('Exception has been suppressed.')\n",
    "        else:\n",
    "            self._data = copy.deepcopy(self._data)\n",
    "        del self._backup\n",
    "        return True\n",
    "    \n",
    "    def __contains__(self, item):\n",
    "        return item in self._data"
   ]
  },
  {
   "cell_type": "code",
   "execution_count": 143,
   "metadata": {},
   "outputs": [
    {
     "name": "stdout",
     "output_type": "stream",
     "text": [
      "[1, 2, 3]\n"
     ]
    }
   ],
   "source": [
    "a = {'k' : [1, 2, 3]}\n",
    "d = FragileDict(a)\n",
    "\n",
    "a['k'].append(5)\n",
    "\n",
    "print(d['k'])"
   ]
  },
  {
   "cell_type": "code",
   "execution_count": 171,
   "metadata": {},
   "outputs": [
    {
     "name": "stdout",
     "output_type": "stream",
     "text": [
      "dict_keys(['_data', '_lock', '_backup'])\n",
      "Exception has been suppressed.\n",
      "[98, 10, 10, 30]\n",
      "[98, 50, 20]\n",
      "[98]\n",
      "dict_keys(['_data', '_lock'])\n",
      "[98]\n"
     ]
    }
   ],
   "source": [
    "d = FragileDict({'key': [98]})\n",
    "\n",
    "with d:\n",
    "    a = d['key']\n",
    "    d['key'].append(10)\n",
    "    a.append(10)\n",
    "    d['123'] = [11, 22]\n",
    "    print(d.__dict__.keys())\n",
    "    raise Exception()\n",
    "\n",
    "a.append(30)\n",
    "b = d['key'] + [50]\n",
    "b.append(20)\n",
    "#d['key'] += [40]\n",
    "#d['234'] = []\n",
    "print(a)\n",
    "print(b)\n",
    "print(d['key'])\n",
    "# print(d['123'])\n",
    "print(d.__dict__.keys())\n",
    "\n",
    "k = FragileDict({ 'qqq' : d['key']})\n",
    "print(k['qqq'])"
   ]
  },
  {
   "cell_type": "code",
   "execution_count": 152,
   "metadata": {},
   "outputs": [
    {
     "name": "stdout",
     "output_type": "stream",
     "text": [
      "Protected state\n",
      "Protected state\n",
      "True\n",
      "True\n"
     ]
    }
   ],
   "source": [
    "d = FragileDict({'key': 5})\n",
    "\n",
    "try:\n",
    "    d['key'] = 6\n",
    "except RuntimeError as e:\n",
    "    print(e)\n",
    "\n",
    "try:\n",
    "    d['ord'] = 7\n",
    "except RuntimeError as e:\n",
    "    print(e)\n",
    "\n",
    "print(d['key'] == 5)\n",
    "print('ord' not in d)"
   ]
  },
  {
   "cell_type": "code",
   "execution_count": 153,
   "metadata": {},
   "outputs": [
    {
     "name": "stdout",
     "output_type": "stream",
     "text": [
      "6\n",
      "True\n",
      "Exception has been suppressed.\n",
      "5\n",
      "True\n"
     ]
    }
   ],
   "source": [
    "d = FragileDict({'key': 5})\n",
    "\n",
    "with d:\n",
    "    d['key'] = 6\n",
    "    print(d['key'])\n",
    "    d['ord'] = 7\n",
    "    print('ord' in d and d['ord'] == 7)\n",
    "    raise Exception()\n",
    "\n",
    "print(d['key'])\n",
    "print('ord' not in d)"
   ]
  },
  {
   "cell_type": "code",
   "execution_count": 155,
   "metadata": {},
   "outputs": [
    {
     "name": "stdout",
     "output_type": "stream",
     "text": [
      "1\n"
     ]
    },
    {
     "data": {
      "text/plain": [
       "True"
      ]
     },
     "execution_count": 155,
     "metadata": {},
     "output_type": "execute_result"
    }
   ],
   "source": [
    "a = FragileDict()\n",
    "with a:\n",
    "    a['key'] = 1\n",
    "    a['123'] = 1\n",
    "    # b = a['sdf']\n",
    "    \n",
    "# a['key'] = 2\n",
    "print(a['key'])\n",
    "'123' in a"
   ]
  },
  {
   "cell_type": "code",
   "execution_count": 242,
   "metadata": {},
   "outputs": [
    {
     "data": {
      "text/plain": [
       "[21, 652, 2048, 1996]"
      ]
     },
     "execution_count": 242,
     "metadata": {},
     "output_type": "execute_result"
    }
   ],
   "source": [
    "from functools import reduce\n",
    "\n",
    "s = ['12', '25.6', '84,02', '  69-91']\n",
    "\n",
    "#reduce(lambda x, y: x + y, list(filter(str.isalnum, s[1])))\n",
    "\n",
    "list(map(lambda z: int(reduce(lambda x, y: x + y, list(filter(str.isnumeric, z)))[::-1]), s))"
   ]
  },
  {
   "cell_type": "code",
   "execution_count": 193,
   "metadata": {},
   "outputs": [
    {
     "data": {
      "text/plain": [
       "[6, 15, 28]"
      ]
     },
     "execution_count": 193,
     "metadata": {},
     "output_type": "execute_result"
    }
   ],
   "source": [
    "s = zip(range(2, 5), range(3, 9, 2))\n",
    "\n",
    "list(map(lambda x: x[0] * x[1], s))"
   ]
  },
  {
   "cell_type": "code",
   "execution_count": 195,
   "metadata": {},
   "outputs": [
    {
     "data": {
      "text/plain": [
       "[0, 2, 5, 6, 8, 11, 12, 14, 17, 18]"
      ]
     },
     "execution_count": 195,
     "metadata": {},
     "output_type": "execute_result"
    }
   ],
   "source": [
    "s = range(20)\n",
    "\n",
    "list(filter(lambda x: x % 6 == 0 or x % 6 == 2 or x % 6 == 5, s))"
   ]
  },
  {
   "cell_type": "code",
   "execution_count": 197,
   "metadata": {},
   "outputs": [
    {
     "data": {
      "text/plain": [
       "[25, 'python', ('msu', '1755-01-25')]"
      ]
     },
     "execution_count": 197,
     "metadata": {},
     "output_type": "execute_result"
    }
   ],
   "source": [
    "s = ['', 25, None, 'python', 0.0, [], ('msu', '1755-01-25')]\n",
    "\n",
    "list(filter(lambda x: bool(x), s))"
   ]
  },
  {
   "cell_type": "code",
   "execution_count": 219,
   "metadata": {},
   "outputs": [
    {
     "name": "stdout",
     "output_type": "stream",
     "text": [
      "[{'name': 'комната1', 'width': 2, 'length': 4, 'square': 8}, {'name': 'комната2', 'width': 2.5, 'length': 5.6, 'square': 14.0}, {'name': 'кухня', 'width': 3.5, 'length': 4, 'square': 14.0}, {'name': 'туалет', 'width': 1.5, 'length': 1.5, 'square': 2.25}]\n"
     ]
    }
   ],
   "source": [
    "s = [\n",
    "    {\"name\": \"комната1\", \"width\": 2, \"length\": 4},\n",
    "    {\"name\": \"комната2\", \"width\": 2.5, \"length\": 5.6},\n",
    "    {\"name\": \"кухня\", \"width\": 3.5, \"length\": 4},\n",
    "    {\"name\": \"туалет\", \"width\": 1.5, \"length\": 1.5},\n",
    "]\n",
    "\n",
    "from operator import setitem \n",
    "\n",
    "list(map(lambda x: x.update({'square': x['width'] * x['length']}), s))\n",
    "#map(lambda x: x.update({'square': x['width'] * x['length']}), s)\n",
    "list(map(lambda x: dict(x, square=x['width'] * x['length']), s))\n",
    "print(s)"
   ]
  },
  {
   "cell_type": "code",
   "execution_count": 221,
   "metadata": {},
   "outputs": [
    {
     "data": {
      "text/plain": [
       "{3, 4, 5}"
      ]
     },
     "execution_count": 221,
     "metadata": {},
     "output_type": "execute_result"
    }
   ],
   "source": [
    "s = [{1, 2, 3, 4, 5}, {2, 3, 4, 5, 6}, {3, 4, 5, 6, 7}]\n",
    "\n",
    "set(reduce(lambda x, y: x & y, s))"
   ]
  },
  {
   "cell_type": "code",
   "execution_count": 228,
   "metadata": {},
   "outputs": [
    {
     "name": "stdout",
     "output_type": "stream",
     "text": [
      "{1: 3, 2: 4, 3: 2, 4: 2}\n"
     ]
    }
   ],
   "source": [
    "s = [1, 2, 1, 1, 3, 2, 3, 2, 4, 2, 4]\n",
    "\n",
    "res = dict()\n",
    "list(map(lambda x: res.update({x:res[x]+1}) if x in res else res.update({x:1}), s))\n",
    "print(res)"
   ]
  },
  {
   "cell_type": "code",
   "execution_count": 231,
   "metadata": {},
   "outputs": [
    {
     "data": {
      "text/plain": [
       "['Alina', 'Sergey', 'Valya']"
      ]
     },
     "execution_count": 231,
     "metadata": {},
     "output_type": "execute_result"
    }
   ],
   "source": [
    "s = [\n",
    "    {'name': 'Alina', 'gpa': 4.57},\n",
    "    {'name': 'Sergey', 'gpa': 5.0},\n",
    "    {'name': 'Nastya', 'gpa': 4.21},\n",
    "    {'name': 'Valya', 'gpa': 4.72},\n",
    "    {'name': 'Anton', 'gpa': 4.32},\n",
    "]\n",
    "\n",
    "list(map(lambda x: x['name'], list(filter(lambda x: x['gpa'] > 4.5, s))))"
   ]
  },
  {
   "cell_type": "code",
   "execution_count": 240,
   "metadata": {},
   "outputs": [
    {
     "data": {
      "text/plain": [
       "['165033', '475145', '238018']"
      ]
     },
     "execution_count": 240,
     "metadata": {},
     "output_type": "execute_result"
    }
   ],
   "source": [
    "s = ['165033', '477329', '631811', '478117', '475145', '238018', '917764', '394286']\n",
    "\n",
    "#sum(list(map(int, s[0][1::2])))\n",
    "\n",
    "list(filter(lambda x: sum(list(map(int, x[1::2]))) == sum(list(map(int, x[::2]))), s))"
   ]
  },
  {
   "cell_type": "code",
   "execution_count": 241,
   "metadata": {},
   "outputs": [],
   "source": [
    "from functools import reduce\n",
    "\n",
    "def solution1(s):\n",
    "    return list(map(lambda z: int(reduce(lambda x, y: x + y, list(filter(str.isnumeric, z)))[::-1]), s))\n",
    "    \n",
    "def solution2(s):\n",
    "    return list(map(lambda x: x[0] * x[1], s))\n",
    "    \n",
    "def solution3(s):\n",
    "    return list(filter(lambda x: x % 6 == 0 or x % 6 == 2 or x % 6 == 5, s))\n",
    "\n",
    "def solution4(s):\n",
    "    return list(filter(lambda x: bool(x), s))\n",
    "    \n",
    "def solution5(s):\n",
    "    list(map(lambda x: x.update({'square': x['width'] * x['length']}), s))\n",
    "    return s\n",
    "    \n",
    "def solution6(s):\n",
    "    return list(map(lambda x: dict(x, square=x['width'] * x['length']), s))\n",
    "\n",
    "def solution7(s):\n",
    "    return set(reduce(lambda x, y: x & y, s))\n",
    "\n",
    "def solution8(s):\n",
    "    res = dict()\n",
    "    list(map(lambda x: res.update({x:res[x]+1}) if x in res else res.update({x:1}), s))\n",
    "    return res\n",
    "\n",
    "def solution9(s):\n",
    "    return list(map(lambda x: x['name'], list(filter(lambda x: x['gpa'] > 4.5, s))))\n",
    "\n",
    "def solution10(s):\n",
    "    return list(filter(lambda x: sum(list(map(int, x[1::2]))) == sum(list(map(int, x[::2]))), s))\n",
    "\n",
    "solutions = {\n",
    "    'solution1': solution1,\n",
    "    'solution2': solution2,\n",
    "    'solution3': solution3,\n",
    "    'solution4': solution4,\n",
    "    'solution5': solution5,\n",
    "    'solution6': solution6,\n",
    "    'solution7': solution7,\n",
    "    'solution8': solution8,\n",
    "    'solution9': solution9,\n",
    "    'solution10': solution10,\n",
    "}"
   ]
  },
  {
   "cell_type": "code",
   "execution_count": 66,
   "metadata": {},
   "outputs": [],
   "source": [
    "from functools import wraps\n",
    "\n",
    "def counter (f):\n",
    "    @wraps(f)\n",
    "    def wrapper (*args, **kwargs):\n",
    "        if(wrapper.depth == 0):\n",
    "            wrapper.ncalls = 0\n",
    "            wrapper.rdepth = 0\n",
    "        wrapper.ncalls += 1\n",
    "        wrapper.depth += 1\n",
    "        result = f(*args, **kwargs)\n",
    "        wrapper.rdepth = max(wrapper.rdepth, wrapper.depth)\n",
    "        wrapper.depth -= 1\n",
    "        return result\n",
    "    wrapper.ncalls = 0\n",
    "    wrapper.depth = 0\n",
    "    wrapper.rdepth = 0\n",
    "    return wrapper"
   ]
  },
  {
   "cell_type": "code",
   "execution_count": 67,
   "metadata": {},
   "outputs": [],
   "source": [
    "@counter\n",
    "def func2(n, steps):\n",
    "    if steps == 0:\n",
    "        return\n",
    "\n",
    "    func2(n + 1, steps - 1)\n",
    "    func2(n - 1, steps - 1)"
   ]
  },
  {
   "cell_type": "code",
   "execution_count": 68,
   "metadata": {},
   "outputs": [
    {
     "name": "stdout",
     "output_type": "stream",
     "text": [
      "63 6\n",
      "15 4\n"
     ]
    }
   ],
   "source": [
    "func2(0, 5)\n",
    "print(func2.ncalls, func2.rdepth)\n",
    "\n",
    "func2(0, 3)\n",
    "print(func2.ncalls, func2.rdepth)"
   ]
  }
 ],
 "metadata": {
  "kernelspec": {
   "display_name": "Python 3",
   "language": "python",
   "name": "python3"
  },
  "language_info": {
   "codemirror_mode": {
    "name": "ipython",
    "version": 3
   },
   "file_extension": ".py",
   "mimetype": "text/x-python",
   "name": "python",
   "nbconvert_exporter": "python",
   "pygments_lexer": "ipython3",
   "version": "3.7.6"
  }
 },
 "nbformat": 4,
 "nbformat_minor": 2
}
